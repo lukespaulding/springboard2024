{
 "cells": [
  {
   "cell_type": "markdown",
   "id": "d7065ff3-45d7-40fd-a64c-efa4818d2ea6",
   "metadata": {},
   "source": [
    "# Exercise 02: Confusion Matrices"
   ]
  },
  {
   "cell_type": "markdown",
   "id": "9bf8a3fe-a449-4aa4-be0c-52cdf9dbda39",
   "metadata": {},
   "source": [
    "**DO NOT ATTEMPT THIS EXERCISE UNTIL YOU HAVE COMPLETED EXERCISE 01!**\n",
    "\n",
    "First, we're going to make sure the necessary modules are installed:"
   ]
  },
  {
   "cell_type": "code",
   "execution_count": 1,
   "id": "0af056cc-edb3-42f7-82de-cb89405dfc61",
   "metadata": {},
   "outputs": [
    {
     "name": "stdout",
     "output_type": "stream",
     "text": [
      "Requirement already satisfied: scikit-learn in /home/luke/.pyenv/versions/3.10.13/envs/2_assignment_env/lib/python3.10/site-packages (1.4.1.post1)\n",
      "Requirement already satisfied: matplotlib in /home/luke/.pyenv/versions/3.10.13/envs/2_assignment_env/lib/python3.10/site-packages (3.8.3)\n",
      "Requirement already satisfied: numpy<2.0,>=1.19.5 in /home/luke/.pyenv/versions/3.10.13/envs/2_assignment_env/lib/python3.10/site-packages (from scikit-learn) (1.26.4)\n",
      "Requirement already satisfied: scipy>=1.6.0 in /home/luke/.pyenv/versions/3.10.13/envs/2_assignment_env/lib/python3.10/site-packages (from scikit-learn) (1.12.0)\n",
      "Requirement already satisfied: joblib>=1.2.0 in /home/luke/.pyenv/versions/3.10.13/envs/2_assignment_env/lib/python3.10/site-packages (from scikit-learn) (1.3.2)\n",
      "Requirement already satisfied: threadpoolctl>=2.0.0 in /home/luke/.pyenv/versions/3.10.13/envs/2_assignment_env/lib/python3.10/site-packages (from scikit-learn) (3.3.0)\n",
      "Requirement already satisfied: contourpy>=1.0.1 in /home/luke/.pyenv/versions/3.10.13/envs/2_assignment_env/lib/python3.10/site-packages (from matplotlib) (1.2.0)\n",
      "Requirement already satisfied: cycler>=0.10 in /home/luke/.pyenv/versions/3.10.13/envs/2_assignment_env/lib/python3.10/site-packages (from matplotlib) (0.12.1)\n",
      "Requirement already satisfied: fonttools>=4.22.0 in /home/luke/.pyenv/versions/3.10.13/envs/2_assignment_env/lib/python3.10/site-packages (from matplotlib) (4.49.0)\n",
      "Requirement already satisfied: kiwisolver>=1.3.1 in /home/luke/.pyenv/versions/3.10.13/envs/2_assignment_env/lib/python3.10/site-packages (from matplotlib) (1.4.5)\n",
      "Requirement already satisfied: packaging>=20.0 in /home/luke/.pyenv/versions/3.10.13/envs/2_assignment_env/lib/python3.10/site-packages (from matplotlib) (23.2)\n",
      "Requirement already satisfied: pillow>=8 in /home/luke/.pyenv/versions/3.10.13/envs/2_assignment_env/lib/python3.10/site-packages (from matplotlib) (10.2.0)\n",
      "Requirement already satisfied: pyparsing>=2.3.1 in /home/luke/.pyenv/versions/3.10.13/envs/2_assignment_env/lib/python3.10/site-packages (from matplotlib) (3.1.1)\n",
      "Requirement already satisfied: python-dateutil>=2.7 in /home/luke/.pyenv/versions/3.10.13/envs/2_assignment_env/lib/python3.10/site-packages (from matplotlib) (2.9.0.post0)\n",
      "Requirement already satisfied: six>=1.5 in /home/luke/.pyenv/versions/3.10.13/envs/2_assignment_env/lib/python3.10/site-packages (from python-dateutil>=2.7->matplotlib) (1.16.0)\n"
     ]
    }
   ],
   "source": [
    "import sys\n",
    "!{sys.executable} -m pip install -U scikit-learn matplotlib"
   ]
  },
  {
   "cell_type": "markdown",
   "id": "429259b0-e60b-499d-bc0c-5285c6d704f6",
   "metadata": {},
   "source": [
    "Read [this page](https://scikit-learn.org/stable/modules/generated/sklearn.metrics.confusion_matrix.html#sklearn.metrics.confusion_matrix) on confusion matrices.  Add a code cell below that will produce the following confusion matrix:\n",
    "```\n",
    "  [[1 2 3]\n",
    "   [3 2 1]\n",
    "   [3 3 3]]\n",
    "```"
   ]
  },
  {
   "cell_type": "code",
   "execution_count": 3,
   "id": "1d143c81-c2b0-4eb9-9944-20771a108ba0",
   "metadata": {},
   "outputs": [
    {
     "data": {
      "text/plain": [
       "array([[1, 2, 3],\n",
       "       [3, 2, 1],\n",
       "       [3, 3, 3]])"
      ]
     },
     "execution_count": 3,
     "metadata": {},
     "output_type": "execute_result"
    }
   ],
   "source": [
    "from sklearn.metrics import confusion_matrix\n",
    "y_true = [1, 1, 1, 1, 1, 1, 2, 2, 2, 2, 2, 2, 3, 3, 3, 3, 3, 3, 3, 3, 3]\n",
    "y_pred = [1, 2, 2, 3, 3, 3, 1, 1, 1, 2, 2, 3, 1, 1, 1, 2, 2, 2, 3, 3, 3]\n",
    "confusion_matrix(y_true, y_pred)"
   ]
  },
  {
   "cell_type": "code",
   "execution_count": null,
   "id": "1cc02fb3-e211-4dbf-a5fd-c3ba5f59f65f",
   "metadata": {},
   "outputs": [],
   "source": []
  }
 ],
 "metadata": {
  "kernelspec": {
   "display_name": "Python 3 (ipykernel)",
   "language": "python",
   "name": "python3"
  },
  "language_info": {
   "codemirror_mode": {
    "name": "ipython",
    "version": 3
   },
   "file_extension": ".py",
   "mimetype": "text/x-python",
   "name": "python",
   "nbconvert_exporter": "python",
   "pygments_lexer": "ipython3",
   "version": "3.10.13"
  }
 },
 "nbformat": 4,
 "nbformat_minor": 5
}
