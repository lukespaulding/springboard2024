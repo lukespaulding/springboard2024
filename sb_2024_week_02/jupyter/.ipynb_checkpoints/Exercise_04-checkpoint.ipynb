{
 "cells": [
  {
   "cell_type": "markdown",
   "id": "738bb32b-b3f6-4497-af1f-49775f87f864",
   "metadata": {},
   "source": [
    "# Exercise 04: Hand-written Digits"
   ]
  },
  {
   "cell_type": "markdown",
   "id": "7b69d76c-5515-46b4-a436-b6a7659e47d2",
   "metadata": {},
   "source": [
    "**DO NOT ATTEMPT THIS EXERCISE UNTIL YOU HAVE COMPLETED EXERCISE 01!**\n",
    "\n",
    "First, we're going to make sure the necessary modules are installed:"
   ]
  },
  {
   "cell_type": "code",
   "execution_count": null,
   "id": "b79b8190-88b4-45b8-9aa9-4fd6e03ca06b",
   "metadata": {},
   "outputs": [],
   "source": [
    "import sys\n",
    "!{sys.executable} -m pip install -U scikit-learn matplotlib"
   ]
  },
  {
   "cell_type": "markdown",
   "id": "5d02bd33-ef22-4eaa-958e-d549c1debc86",
   "metadata": {},
   "source": [
    "The following code is from [this tutorial](https://scikit-learn.org/stable/auto_examples/classification/plot_digits_classification.html#sphx-glr-auto-examples-classification-plot-digits-classification-py) on hand-written digit classification.\n",
    "\n",
    "We're going to completely ignore the details of the classifier and focus on its results.\n",
    "\n",
    "Run the code:"
   ]
  },
  {
   "cell_type": "code",
   "execution_count": null,
   "id": "4f862172-507f-4adf-8099-cadecaebad5c",
   "metadata": {},
   "outputs": [],
   "source": [
    "# Author: Gael Varoquaux <gael dot varoquaux at normalesup dot org>\n",
    "# License: BSD 3 clause\n",
    "\n",
    "# Standard scientific Python imports\n",
    "import matplotlib.pyplot as plt\n",
    "\n",
    "# Import datasets, classifiers and performance metrics\n",
    "from sklearn import datasets, metrics, svm\n",
    "from sklearn.model_selection import train_test_split\n",
    "\n",
    "digits = datasets.load_digits()\n",
    "\n",
    "# flatten the images\n",
    "n_samples = len(digits.images)\n",
    "data = digits.images.reshape((n_samples, -1))\n",
    "\n",
    "# Create a classifier: a support vector classifier\n",
    "clf = svm.SVC(gamma=0.001)\n",
    "\n",
    "# Split data into 50% train and 50% test subsets\n",
    "X_train, X_test, y_train, y_test = train_test_split(\n",
    "    data, digits.target, test_size=0.5, shuffle=False\n",
    ")\n",
    "\n",
    "# Learn the digits on the train subset\n",
    "clf.fit(X_train, y_train)\n",
    "\n",
    "# Predict the value of the digit on the test subset\n",
    "predicted = clf.predict(X_test)\n",
    "\n",
    "_, axes = plt.subplots(nrows=1, ncols=10, figsize=(10, 3))\n",
    "for ax, image, prediction in zip(axes, X_test, predicted):\n",
    "    ax.set_axis_off()\n",
    "    image = image.reshape(8, 8)\n",
    "    ax.imshow(image, cmap=plt.cm.gray_r, interpolation=\"nearest\")\n",
    "    ax.set_title(f\"{prediction}\")"
   ]
  },
  {
   "cell_type": "markdown",
   "id": "da53de32-db9e-4d94-9517-f1292355a015",
   "metadata": {},
   "source": [
    "Take a look at the classification report, and describe anything interesting below."
   ]
  },
  {
   "cell_type": "code",
   "execution_count": null,
   "id": "5d768f9f-1836-460a-a6b8-ccd442c78b53",
   "metadata": {},
   "outputs": [],
   "source": [
    "print(\n",
    "    f\"Classification report for classifier {clf}:\\n\"\n",
    "    f\"{metrics.classification_report(y_test, predicted)}\\n\"\n",
    ")"
   ]
  },
  {
   "cell_type": "markdown",
   "id": "408454c7-0ece-4ac3-916e-120aa03a4a84",
   "metadata": {},
   "source": [
    "YOUR ANSWER HERE"
   ]
  },
  {
   "cell_type": "markdown",
   "id": "54b3dea7-f65f-475c-8ddf-821f141b6f51",
   "metadata": {},
   "source": [
    "Let's take a look at the confusion matrix, in both text and heat map formats:"
   ]
  },
  {
   "cell_type": "code",
   "execution_count": null,
   "id": "4920e96b-d0f4-4c44-b621-e05827cb2cce",
   "metadata": {},
   "outputs": [],
   "source": [
    "disp = metrics.ConfusionMatrixDisplay.from_predictions(y_test, predicted)\n",
    "disp.figure_.suptitle(\"Confusion Matrix\")\n",
    "print(f\"Confusion matrix:\\n{disp.confusion_matrix}\")\n",
    "plt.show()"
   ]
  },
  {
   "cell_type": "markdown",
   "id": "fb7db1ea-354b-46bb-a6b4-b65bd0114303",
   "metadata": {},
   "source": [
    "Is this consistent with the classification report above?  Based on the data above, what error is this classifier most likely to make?"
   ]
  },
  {
   "cell_type": "markdown",
   "id": "c82f64bb-ad8b-434d-8848-812978a85351",
   "metadata": {},
   "source": [
    "YOUR ANSWER HERE"
   ]
  },
  {
   "cell_type": "markdown",
   "id": "f112e595-5f5d-4a44-ab97-11a68776ca85",
   "metadata": {},
   "source": [
    "How are you liking jupyter lab/notebooks so far?"
   ]
  },
  {
   "cell_type": "markdown",
   "id": "f7a076d5-0c63-42e5-b457-19824675c19b",
   "metadata": {},
   "source": [
    "YOUR ANSWER HERE"
   ]
  }
 ],
 "metadata": {
  "kernelspec": {
   "display_name": "Python 3 (ipykernel)",
   "language": "python",
   "name": "python3"
  },
  "language_info": {
   "codemirror_mode": {
    "name": "ipython",
    "version": 3
   },
   "file_extension": ".py",
   "mimetype": "text/x-python",
   "name": "python",
   "nbconvert_exporter": "python",
   "pygments_lexer": "ipython3",
   "version": "3.10.13"
  }
 },
 "nbformat": 4,
 "nbformat_minor": 5
}
